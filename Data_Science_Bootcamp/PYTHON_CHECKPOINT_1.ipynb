{
 "cells": [
  {
   "cell_type": "markdown",
   "id": "ac21424a",
   "metadata": {},
   "source": [
    "PYTHON CHECKPOINT"
   ]
  },
  {
   "cell_type": "code",
   "execution_count": 2,
   "id": "782e0210",
   "metadata": {},
   "outputs": [
    {
     "name": "stdout",
     "output_type": "stream",
     "text": [
      "Welcome to Python Pizza Deliveries\n"
     ]
    }
   ],
   "source": [
    "print (\"Welcome to Python Pizza Deliveries\")"
   ]
  },
  {
   "cell_type": "code",
   "execution_count": 3,
   "id": "d922ec06",
   "metadata": {},
   "outputs": [
    {
     "name": "stdout",
     "output_type": "stream",
     "text": [
      "What pizza size do you want ?l\n"
     ]
    }
   ],
   "source": [
    "size = input (\"What pizza size do you want ?\")\n",
    "Total = 0\n",
    "Small_pizza = 15 \n",
    "Medium_pizza =20\n",
    "Large_pizza = 25\n",
    "Pepperoni_small_pizza = 2\n",
    "Pepperoni_medium_large = 3\n",
    "Cheese = 1"
   ]
  },
  {
   "cell_type": "code",
   "execution_count": 4,
   "id": "e4139684",
   "metadata": {},
   "outputs": [
    {
     "name": "stdout",
     "output_type": "stream",
     "text": [
      "Do you want pepperoni on your pizza Y/N: y\n"
     ]
    }
   ],
   "source": [
    "add_pepperoni = input(\"Do you want pepperoni on your pizza Y/N: \")"
   ]
  },
  {
   "cell_type": "code",
   "execution_count": 5,
   "id": "a03e52ae",
   "metadata": {},
   "outputs": [
    {
     "name": "stdout",
     "output_type": "stream",
     "text": [
      "Do you want extra cheese Y/N: N\n"
     ]
    }
   ],
   "source": [
    "extra_cheese = input(\"Do you want extra cheese Y/N: \")"
   ]
  },
  {
   "cell_type": "code",
   "execution_count": 6,
   "id": "fec55cb6",
   "metadata": {},
   "outputs": [],
   "source": [
    "if size == \"L\":\n",
    "    print (\"Bill: \", Large_pizza)"
   ]
  },
  {
   "cell_type": "code",
   "execution_count": 8,
   "id": "3ea6e95c",
   "metadata": {
    "scrolled": true
   },
   "outputs": [
    {
     "name": "stdout",
     "output_type": "stream",
     "text": [
      "What pizza size do you want ?L\n",
      "Do you want pepperoni on your pizza Y/N: Y\n",
      "Do you want extra cheese Y/N: N\n",
      "Bill = $28\n"
     ]
    }
   ],
   "source": [
    "size = input(\"What pizza size do you want ?\").lower()\n",
    "add_pepperoni = input(\"Do you want pepperoni on your pizza Y/N: \").lower()\n",
    "extra_cheese = input(\"Do you want extra cheese Y/N: \").lower()\n",
    "if size == 'l' and add_pepperoni == 'y' and extra_cheese == 'y':\n",
    "    print(f\"Bill = ${Large_pizza + Pepperoni_medium_large + Cheese}\")\n",
    "elif size == 'l' and add_pepperoni == 'n' and extra_cheese == 'y':\n",
    "    print(f\"Bill = ${Large_pizza + Cheese}\")\n",
    "elif size == 'l' and add_pepperoni == 'y' and extra_cheese == 'n':\n",
    "    print(f\"Bill = ${Large_pizza + Pepperoni_medium_large}\")\n",
    "elif size == 'l' and add_pepperoni == 'n' and extra_cheese == 'n':\n",
    "    print(f\"Bill = ${Large_pizza}\")\n",
    "elif size == 'm' and add_pepperoni == 'y' and extra_cheese == 'y':\n",
    "    print(f\"Bill = ${Medium_pizza + Pepperoni_medium_large + Cheese}\")\n",
    "elif size == 'm' and add_pepperoni == 'y' and extra_cheese == 'n':\n",
    "    print(f\"Bill = ${Medium_pizza + Pepperoni_medium_large}\")\n",
    "elif size == 'm' and add_pepperoni == 'n' and extra_cheese == 'y':\n",
    "    print(f\"Bill = ${Medium_pizza + Cheese}\")\n",
    "elif size == 'm' and add_pepperoni == 'n' and extra_cheese == 'n':\n",
    "    print(f\"Bill = ${Medium_pizza}\")\n",
    "elif size == 's' and add_pepperoni == 'y' and extra_cheese == 'y':\n",
    "    print(f\"Bill = ${Small_pizza + Pepperoni_small_pizza + Cheese}\")\n",
    "elif size == 's' and add_pepperoni == 'y' and extra_cheese == 'n':\n",
    "    print(f\"Bill = ${Small_pizza + Pepperoni_small_pizza}\")\n",
    "elif size == 's' and add_pepperoni == 'n' and extra_cheese == 'y':\n",
    "    print(f\"Bill = ${Small_pizza + Cheese}\")\n",
    "elif size == 's' and add_pepperoni == 'n' and extra_cheese == 'n':\n",
    "    print(f\"Bill = ${Small_pizza}\")"
   ]
  },
  {
   "cell_type": "code",
   "execution_count": null,
   "id": "70b7ba60",
   "metadata": {},
   "outputs": [],
   "source": []
  }
 ],
 "metadata": {
  "kernelspec": {
   "display_name": "Python 3 (ipykernel)",
   "language": "python",
   "name": "python3"
  },
  "language_info": {
   "codemirror_mode": {
    "name": "ipython",
    "version": 3
   },
   "file_extension": ".py",
   "mimetype": "text/x-python",
   "name": "python",
   "nbconvert_exporter": "python",
   "pygments_lexer": "ipython3",
   "version": "3.11.5"
  }
 },
 "nbformat": 4,
 "nbformat_minor": 5
}
